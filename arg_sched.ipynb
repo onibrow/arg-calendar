{
 "cells": [
  {
   "cell_type": "markdown",
   "metadata": {},
   "source": [
    "# Research Group Meeting Scheduler\n",
    "## Arias Research Group"
   ]
  },
  {
   "cell_type": "code",
   "execution_count": 1,
   "metadata": {},
   "outputs": [
    {
     "name": "stdout",
     "output_type": "stream",
     "text": [
      "Populating the interactive namespace from numpy and matplotlib\n"
     ]
    }
   ],
   "source": [
    "%pylab inline\n",
    "%load_ext autoreload\n",
    "%autoreload 2"
   ]
  },
  {
   "cell_type": "code",
   "execution_count": 15,
   "metadata": {},
   "outputs": [],
   "source": [
    "from cal_helper import *\n",
    "import matplotlib.dates as dates\n",
    "import matplotlib.pyplot as plt\n",
    "import re\n",
    "matplotlib.font_manager._rebuild()"
   ]
  },
  {
   "cell_type": "code",
   "execution_count": 16,
   "metadata": {},
   "outputs": [],
   "source": [
    "(creds, service) = get_creds_service()\n",
    "# list_calendars(creds, service)\n",
    "cal_dict = load_calendars()\n",
    "start_date = get_datetime_now()\n",
    "group_meeting_events = list_all_group_meetings(start_date, creds, service, cal=cal_dict['Research Test'])"
   ]
  },
  {
   "cell_type": "code",
   "execution_count": 24,
   "metadata": {},
   "outputs": [
    {
     "name": "stdout",
     "output_type": "stream",
     "text": [
      "+----------------------------------+\n",
      "| Seiya & Cher, Group Meeting      |\n",
      "| 2020-05-13                       |\n",
      "| 18:00:00                         |\n",
      "+----------------------------------+\n",
      "+----------------------------------+\n",
      "| Juan and Natalie, Group Meeting  |\n",
      "| 2020-05-20                       |\n",
      "| 18:00:00                         |\n",
      "+----------------------------------+\n",
      "+----------------------------------+\n",
      "| Xiadong and Ting, Group Meeting  |\n",
      "| 2020-05-27                       |\n",
      "| 18:00:00                         |\n",
      "+----------------------------------+\n",
      "+----------------------------------+\n",
      "| Jasmine and Carol, Group Meeting |\n",
      "| 2020-06-03                       |\n",
      "| 18:00:00                         |\n",
      "+----------------------------------+\n"
     ]
    }
   ],
   "source": [
    "pretty_print_group_meeting(group_meeting_events)"
   ]
  },
  {
   "cell_type": "code",
   "execution_count": null,
   "metadata": {},
   "outputs": [],
   "source": [
    "x"
   ]
  }
 ],
 "metadata": {
  "kernelspec": {
   "display_name": "Python 3",
   "language": "python",
   "name": "python3"
  },
  "language_info": {
   "codemirror_mode": {
    "name": "ipython",
    "version": 3
   },
   "file_extension": ".py",
   "mimetype": "text/x-python",
   "name": "python",
   "nbconvert_exporter": "python",
   "pygments_lexer": "ipython3",
   "version": "3.8.2"
  }
 },
 "nbformat": 4,
 "nbformat_minor": 4
}
