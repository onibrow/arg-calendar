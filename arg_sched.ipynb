{
 "cells": [
  {
   "cell_type": "markdown",
   "metadata": {},
   "source": [
    "# Research Group Meeting Scheduler\n",
    "## Arias Research Group"
   ]
  },
  {
   "cell_type": "code",
   "execution_count": 1,
   "metadata": {},
   "outputs": [
    {
     "name": "stdout",
     "output_type": "stream",
     "text": [
      "Populating the interactive namespace from numpy and matplotlib\n"
     ]
    }
   ],
   "source": [
    "%pylab inline\n",
    "%load_ext autoreload\n",
    "%autoreload 2"
   ]
  },
  {
   "cell_type": "code",
   "execution_count": 2,
   "metadata": {},
   "outputs": [],
   "source": [
    "from cal_helper import *\n",
    "import matplotlib.dates as dates\n",
    "import matplotlib.pyplot as plt\n",
    "import re"
   ]
  },
  {
   "cell_type": "code",
   "execution_count": 3,
   "metadata": {},
   "outputs": [],
   "source": [
    "group_meetings = Group_Meetings()"
   ]
  },
  {
   "cell_type": "code",
   "execution_count": 7,
   "metadata": {},
   "outputs": [
    {
     "name": "stdin",
     "output_type": "stream",
     "text": [
      "Month (0:12):  5\n",
      "Date (0:31):  30\n",
      "Year:  q\n"
     ]
    },
    {
     "name": "stdout",
     "output_type": "stream",
     "text": [
      "Invalid input. (0,10000) inclusive\n"
     ]
    },
    {
     "name": "stdin",
     "output_type": "stream",
     "text": [
      "Year:  2020\n",
      "Hour (0:24):  15\n",
      "Minute (0:60):  0\n",
      "Duration (minutes):  120\n"
     ]
    },
    {
     "name": "stdout",
     "output_type": "stream",
     "text": [
      "+-----------------------------------------+\n",
      "| [0] Maggie and Mashsa, Group Meeting    |\n",
      "| 2020-05-30                              |\n",
      "| 15:00:00                                |\n",
      "+-----------------------------------------+\n",
      "+-----------------------------------------+\n",
      "| [0] Jasmine and Xiaodong, Group Meeting |\n",
      "| 2020-06-06                              |\n",
      "| 15:00:00                                |\n",
      "+-----------------------------------------+\n",
      "+-----------------------------------------+\n",
      "| [0] Karthik and Anju, Group Meeting     |\n",
      "| 2020-06-13                              |\n",
      "| 15:00:00                                |\n",
      "+-----------------------------------------+\n",
      "+-----------------------------------------+\n",
      "| [0] Juan and Ting, Group Meeting        |\n",
      "| 2020-06-20                              |\n",
      "| 15:00:00                                |\n",
      "+-----------------------------------------+\n",
      "+-----------------------------------------+\n",
      "| [0] Seiya and Payton, Group Meeting     |\n",
      "| 2020-06-27                              |\n",
      "| 15:00:00                                |\n",
      "+-----------------------------------------+\n",
      "+-----------------------------------------+\n",
      "| [0] Natalie and Carol, Group Meeting    |\n",
      "| 2020-07-04                              |\n",
      "| 15:00:00                                |\n",
      "+-----------------------------------------+\n",
      "\n"
     ]
    },
    {
     "name": "stdin",
     "output_type": "stream",
     "text": [
      "Proceed? [Y/N]:  y\n"
     ]
    }
   ],
   "source": [
    "group_meetings.schedule_meetings()"
   ]
  },
  {
   "cell_type": "code",
   "execution_count": 10,
   "metadata": {},
   "outputs": [
    {
     "name": "stdout",
     "output_type": "stream",
     "text": [
      "+-----------------------------------------+\n",
      "| [0] Seiya and Cher, Group Meeting       |\n",
      "| 2020-05-13                              |\n",
      "| 18:00:00                                |\n",
      "+-----------------------------------------+\n",
      "+-----------------------------------------+\n",
      "| [1] Juan and Natalie, Group Meeting     |\n",
      "| 2020-05-20                              |\n",
      "| 18:00:00                                |\n",
      "+-----------------------------------------+\n",
      "+-----------------------------------------+\n",
      "| [2] Ting, Group Meeting                 |\n",
      "| 2020-05-27                              |\n",
      "| 18:00:00                                |\n",
      "+-----------------------------------------+\n",
      "+-----------------------------------------+\n",
      "| [3] Maggie and Mashsa, Group Meeting    |\n",
      "| 2020-05-30                              |\n",
      "| 15:00:00                                |\n",
      "+-----------------------------------------+\n",
      "+-----------------------------------------+\n",
      "| [4] Jasmine and Xiaodong, Group Meeting |\n",
      "| 2020-06-06                              |\n",
      "| 15:00:00                                |\n",
      "+-----------------------------------------+\n",
      "+-----------------------------------------+\n",
      "| [5] Karthik and Anju, Group Meeting     |\n",
      "| 2020-06-13                              |\n",
      "| 15:00:00                                |\n",
      "+-----------------------------------------+\n",
      "+-----------------------------------------+\n",
      "| [6] Xiaodong and Jasmine, Group Meeting |\n",
      "| 2020-06-17                              |\n",
      "| 18:00:00                                |\n",
      "+-----------------------------------------+\n",
      "+-----------------------------------------+\n",
      "| [7] Juan and Ting, Group Meeting        |\n",
      "| 2020-06-20                              |\n",
      "| 15:00:00                                |\n",
      "+-----------------------------------------+\n",
      "+-----------------------------------------+\n",
      "| [8] Carol and Karthik, Group Meeting    |\n",
      "| 2020-06-24                              |\n",
      "| 18:00:00                                |\n",
      "+-----------------------------------------+\n",
      "+-----------------------------------------+\n",
      "| [9] Seiya and Payton, Group Meeting     |\n",
      "| 2020-06-27                              |\n",
      "| 15:00:00                                |\n",
      "+-----------------------------------------+\n",
      "+-----------------------------------------+\n",
      "| [10] Mahsa, Group Meeting               |\n",
      "| 2020-07-01                              |\n",
      "| 18:00:00                                |\n",
      "+-----------------------------------------+\n",
      "+-----------------------------------------+\n",
      "| [11] Natalie and Carol, Group Meeting   |\n",
      "| 2020-07-04                              |\n",
      "| 15:00:00                                |\n",
      "+-----------------------------------------+\n",
      "+-----------------------------------------+\n",
      "| [12] Maggie, Group Meeting              |\n",
      "| 2020-07-08                              |\n",
      "| 18:00:00                                |\n",
      "+-----------------------------------------+\n",
      "\n"
     ]
    }
   ],
   "source": [
    "print(group_meetings.pretty_print())"
   ]
  },
  {
   "cell_type": "code",
   "execution_count": 9,
   "metadata": {},
   "outputs": [],
   "source": [
    "group_meetings.refresh()"
   ]
  },
  {
   "cell_type": "code",
   "execution_count": 5,
   "metadata": {},
   "outputs": [],
   "source": [
    "# group_meetings.delay_event()\n",
    "# group_meetings.split_event()"
   ]
  },
  {
   "cell_type": "code",
   "execution_count": 6,
   "metadata": {},
   "outputs": [
    {
     "name": "stdout",
     "output_type": "stream",
     "text": [
      "+--------------------------------------+\n",
      "| [0] Seiya and Cher, Group Meeting    |\n",
      "| 2020-05-13                           |\n",
      "| 18:00:00                             |\n",
      "+--------------------------------------+\n",
      "+--------------------------------------+\n",
      "| [1] Juan and Natalie, Group Meeting  |\n",
      "| 2020-05-20                           |\n",
      "| 18:00:00                             |\n",
      "+--------------------------------------+\n",
      "+--------------------------------------+\n",
      "| [2] Xiaodong and Ting, Group Meeting |\n",
      "| 2020-05-27                           |\n",
      "| 18:00:00                             |\n",
      "+--------------------------------------+\n",
      "+--------------------------------------+\n",
      "| [3] Jasmine and Carol, Group Meeting |\n",
      "| 2020-06-03                           |\n",
      "| 18:00:00                             |\n",
      "+--------------------------------------+\n",
      "+--------------------------------------+\n",
      "| [4] Karthik and None, Group Meeting  |\n",
      "| 2020-06-17                           |\n",
      "| 18:00:00                             |\n",
      "+--------------------------------------+\n",
      "+--------------------------------------+\n",
      "| [5] Mahsa and Maggie, Group Meeting  |\n",
      "| 2020-06-24                           |\n",
      "| 18:00:00                             |\n",
      "+--------------------------------------+\n",
      "\n"
     ]
    },
    {
     "name": "stdin",
     "output_type": "stream",
     "text": [
      "\n",
      "Input event index to delay:  3\n"
     ]
    },
    {
     "name": "stdout",
     "output_type": "stream",
     "text": [
      "\n",
      "Preview:\n",
      "\n",
      "+--------------------------------------+\n",
      "| [0] Seiya and Cher, Group Meeting    |\n",
      "| 2020-05-13                           |\n",
      "| 18:00:00                             |\n",
      "+--------------------------------------+\n",
      "+--------------------------------------+\n",
      "| [1] Juan and Natalie, Group Meeting  |\n",
      "| 2020-05-20                           |\n",
      "| 18:00:00                             |\n",
      "+--------------------------------------+\n",
      "+--------------------------------------+\n",
      "| [2] Xiaodong and Ting, Group Meeting |\n",
      "| 2020-05-27                           |\n",
      "| 18:00:00                             |\n",
      "+--------------------------------------+\n",
      "+--------------------------------------+\n",
      "| [3] Jasmine and Carol, Group Meeting |\n",
      "| 2020-06-17                           |\n",
      "| 18:00:00                             |\n",
      "+--------------------------------------+\n",
      "+--------------------------------------+\n",
      "| [4] Karthik and None, Group Meeting  |\n",
      "| 2020-06-24                           |\n",
      "| 18:00:00                             |\n",
      "+--------------------------------------+\n",
      "+--------------------------------------+\n",
      "| [5] Mahsa and Maggie, Group Meeting  |\n",
      "| 2020-07-01                           |\n",
      "| 18:00:00                             |\n",
      "+--------------------------------------+\n",
      "\n"
     ]
    },
    {
     "name": "stdin",
     "output_type": "stream",
     "text": [
      "Proceed? [Y/N]:  y\n"
     ]
    }
   ],
   "source": [
    "group_meetings.delay_event()"
   ]
  },
  {
   "cell_type": "code",
   "execution_count": 7,
   "metadata": {},
   "outputs": [
    {
     "name": "stdout",
     "output_type": "stream",
     "text": [
      "+--------------------------------------+\n",
      "| [0] Seiya and Cher, Group Meeting    |\n",
      "| 2020-05-13                           |\n",
      "| 18:00:00                             |\n",
      "+--------------------------------------+\n",
      "+--------------------------------------+\n",
      "| [1] Juan and Natalie, Group Meeting  |\n",
      "| 2020-05-20                           |\n",
      "| 18:00:00                             |\n",
      "+--------------------------------------+\n",
      "+--------------------------------------+\n",
      "| [2] Xiaodong and Ting, Group Meeting |\n",
      "| 2020-05-27                           |\n",
      "| 18:00:00                             |\n",
      "+--------------------------------------+\n",
      "+--------------------------------------+\n",
      "| [3] Jasmine and Carol, Group Meeting |\n",
      "| 2020-06-17                           |\n",
      "| 18:00:00                             |\n",
      "+--------------------------------------+\n",
      "+--------------------------------------+\n",
      "| [4] Karthik and None, Group Meeting  |\n",
      "| 2020-06-24                           |\n",
      "| 18:00:00                             |\n",
      "+--------------------------------------+\n",
      "+--------------------------------------+\n",
      "| [5] Mahsa and Maggie, Group Meeting  |\n",
      "| 2020-07-01                           |\n",
      "| 18:00:00                             |\n",
      "+--------------------------------------+\n",
      "\n"
     ]
    },
    {
     "name": "stdin",
     "output_type": "stream",
     "text": [
      "\n",
      "Which meeting gets split? (input [#]):  2\n",
      "\n",
      "Which person gets pushed back?\n",
      "[0] Xiaodong\n",
      "[1] Ting\n",
      "Input index (0 or 1):  0\n"
     ]
    },
    {
     "name": "stdout",
     "output_type": "stream",
     "text": [
      "\n",
      "Preview:\n",
      "\n",
      "[0] Seiya\n",
      "[1] Cher\n",
      "---------\n",
      "[2] Juan\n",
      "[3] Natalie\n",
      "---------\n",
      "[4] Ting\n",
      "[5] None\n",
      "---------\n",
      "[6] Xiaodong\n",
      "[7] Jasmine\n",
      "---------\n",
      "[8] Carol\n",
      "[9] Karthik\n",
      "---------\n",
      "[10] None\n",
      "[11] Mahsa\n",
      "---------\n",
      "[12] Maggie\n",
      "[13] None\n"
     ]
    },
    {
     "name": "stdin",
     "output_type": "stream",
     "text": [
      "Proceed? [Y/N]:  y\n"
     ]
    }
   ],
   "source": [
    "group_meetings.split_event()"
   ]
  },
  {
   "cell_type": "code",
   "execution_count": 8,
   "metadata": {},
   "outputs": [
    {
     "name": "stdout",
     "output_type": "stream",
     "text": [
      "+-----------------------------------------+\n",
      "| [0] Seiya and Cher, Group Meeting       |\n",
      "| 2020-05-13                              |\n",
      "| 18:00:00                                |\n",
      "+-----------------------------------------+\n",
      "+-----------------------------------------+\n",
      "| [1] Juan and Natalie, Group Meeting     |\n",
      "| 2020-05-20                              |\n",
      "| 18:00:00                                |\n",
      "+-----------------------------------------+\n",
      "+-----------------------------------------+\n",
      "| [2] Ting and None, Group Meeting        |\n",
      "| 2020-05-27                              |\n",
      "| 18:00:00                                |\n",
      "+-----------------------------------------+\n",
      "+-----------------------------------------+\n",
      "| [3] Xiaodong and Jasmine, Group Meeting |\n",
      "| 2020-06-17                              |\n",
      "| 18:00:00                                |\n",
      "+-----------------------------------------+\n",
      "+-----------------------------------------+\n",
      "| [4] Carol and Karthik, Group Meeting    |\n",
      "| 2020-06-24                              |\n",
      "| 18:00:00                                |\n",
      "+-----------------------------------------+\n",
      "+-----------------------------------------+\n",
      "| [5] Mahsa and None, Group Meeting       |\n",
      "| 2020-07-01                              |\n",
      "| 18:00:00                                |\n",
      "+-----------------------------------------+\n",
      "+-----------------------------------------+\n",
      "| [6] Maggie and None, Group Meeting      |\n",
      "| 2020-07-08                              |\n",
      "| 18:00:00                                |\n",
      "+-----------------------------------------+\n",
      "\n"
     ]
    }
   ],
   "source": [
    "print(group_meetings.pretty_print())"
   ]
  },
  {
   "cell_type": "code",
   "execution_count": 15,
   "metadata": {},
   "outputs": [
    {
     "name": "stdout",
     "output_type": "stream",
     "text": [
      "Published Changes.\n"
     ]
    }
   ],
   "source": [
    "group_meetings.publish_changes()"
   ]
  },
  {
   "cell_type": "code",
   "execution_count": 10,
   "metadata": {},
   "outputs": [],
   "source": [
    "group_meetings.delete_old_revision()"
   ]
  }
 ],
 "metadata": {
  "kernelspec": {
   "display_name": "Python 3",
   "language": "python",
   "name": "python3"
  },
  "language_info": {
   "codemirror_mode": {
    "name": "ipython",
    "version": 3
   },
   "file_extension": ".py",
   "mimetype": "text/x-python",
   "name": "python",
   "nbconvert_exporter": "python",
   "pygments_lexer": "ipython3",
   "version": "3.8.2"
  }
 },
 "nbformat": 4,
 "nbformat_minor": 4
}
