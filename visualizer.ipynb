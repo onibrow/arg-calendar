{
 "cells": [
  {
   "cell_type": "markdown",
   "metadata": {},
   "source": [
    "# Calendar Scheduler"
   ]
  },
  {
   "cell_type": "code",
   "execution_count": 1,
   "metadata": {},
   "outputs": [
    {
     "name": "stdout",
     "output_type": "stream",
     "text": [
      "Populating the interactive namespace from numpy and matplotlib\n"
     ]
    }
   ],
   "source": [
    "%pylab inline\n",
    "%load_ext autoreload\n",
    "%autoreload 2"
   ]
  },
  {
   "cell_type": "code",
   "execution_count": 4,
   "metadata": {},
   "outputs": [],
   "source": [
    "from cal_helper import *\n",
    "import re"
   ]
  },
  {
   "cell_type": "code",
   "execution_count": 16,
   "metadata": {},
   "outputs": [
    {
     "name": "stdout",
     "output_type": "stream",
     "text": [
      "Organize Parts + FFC type [NextFlex] on 2019-08-28 for 2:30:00\n",
      "Oximeter research type [NextFlex] on 2019-08-29 for 1:30:00\n",
      "Oximeter stuff type [NextFlex] on 2019-09-03 for 2:00:00\n",
      "Oximeter Design type [NextFlex] on 2019-09-04 for 5:00:00\n",
      "AVR Programmer type [MIPPE] on 2019-09-08 for 4:00:00\n",
      "Controller type [MIPPE] on 2019-09-09 for 1:30:00\n",
      "AD5933 Debug type [NextFlex] on 2019-09-16 for 3:00:00\n",
      "AD5933 debug type [NextFlex] on 2019-09-16 for 3:00:00\n",
      "AD5933 type [NextFlex] on 2019-09-17 for 1:30:00\n",
      "Try decreasing RFB type [NextFlex] on 2019-09-18 for 1:00:00\n",
      "Electrodes Board type [NextFlex] on 2019-09-18 for 3:00:00\n",
      "Unboxing type [NextFlex] on 2019-09-23 for 1:30:00\n",
      "Meet with Seiya type [MIPPE] on 2019-09-27 for 1:00:00\n",
      "ISP type [MIPPE] on 2019-09-27 for 1:00:00\n",
      "avr isp  testing type [MIPPE] on 2019-09-29 for 1:30:00\n",
      "Base Debugging type [MIPPE] on 2019-09-30 for 2:30:00\n",
      "Rework type [MIPPE] on 2019-09-30 for 1:00:00\n",
      "Order MIPPE Parts type [MIPPE] on 2019-10-01 for 0:30:00\n",
      "ATMEL Fuse Research type [MIPPE] on 2019-10-02 for 2:00:00\n",
      "Meet with Seiya type [MIPPE] on 2019-10-04 for 1:30:00\n",
      "AVR MIPPE  type [MIPPE] on 2019-10-13 for 4:30:00\n",
      "Oxi type [NextFlex] on 2019-10-18 for 2:30:00\n",
      "Oximeter type [NextFlex] on 2019-10-21 for 2:00:00\n",
      "32U4 type [MIPPE] on 2019-10-22 for 6:00:00\n",
      "32u4 type [MIPPE] on 2019-10-29 for 2:30:00\n",
      "Oxi + MIPPE type [NextFlex] on 2019-10-31 for 1:00:00\n",
      "32U4 type [MIPPE] on 2019-11-01 for 1:30:00\n",
      "Oximeter Integration Meeting type [NextFlex] on 2019-11-01 for 0:45:00\n",
      "U4 type [MIPPE] on 2019-11-02 for 5:00:00\n",
      "Integration Rev A type [NextFlex] on 2019-11-04 for 3:00:00\n",
      "Integration Rev A type [NextFlex] on 2019-11-05 for 1:30:00\n",
      "Integration Rev A type [NextFlex] on 2019-11-05 for 2:30:00\n",
      "Oximeter Digital Characteristics type [NextFlex] on 2019-11-05 for 1:00:00\n",
      "MIPPE Burnin JLC Order type [NextFlex] on 2019-11-06 for 3:00:00\n",
      "Push out digikey order type [NextFlex] on 2019-11-06 for 1:30:00\n",
      "Meet Siyuan type [MIPPE] on 2019-11-12 for 1:00:00\n",
      "Board Fab type [NextFlex] on 2019-11-16 for 4:00:00\n",
      "Oximeter Testing type [NextFlex] on 2019-11-17 for 4:00:00\n",
      "Oximeter type [NextFlex] on 2019-11-18 for 1:30:00\n",
      "Siyuan type [MIPPE] on 2019-11-22 for 2:30:00\n",
      "Soldering type [NextFlex] on 2019-11-28 for 1:00:00\n",
      "Electrodes type [NextFlex] on 2019-11-30 for 4:00:00\n",
      "Updates type [NextFlex] on 2019-12-02 for 0:30:00\n",
      "Electrode Testing type [NextFlex] on 2019-12-02 for 0:30:00\n",
      "Final Integration type [NextFlex] on 2019-12-02 for 1:30:00\n",
      "JLC Order type [NextFlex] on 2019-12-03 for 1:00:00\n",
      "Electrodes +  32U4 type [NextFlex] on 2019-12-03 for 1:00:00\n",
      "Inventory type [NextFlex] on 2019-12-04 for 0:30:00\n",
      "Board Fab type [NextFlex] on 2019-12-11 for 1:00:00\n",
      "Board Fab type [NextFlex] on 2019-12-11 for 3:00:00\n",
      "Board Testing & Debugging type [NextFlex] on 2019-12-11 for 3:00:00\n",
      "Take Pictures type [NextFlex] on 2019-12-18 for 0:30:00\n",
      "Final Integration type [NextFlex] on 2019-12-19 for 6:00:00\n",
      "OLED PMIC type [MIPPE] on 2020-01-22 for 1:30:00\n",
      "Fix OLED PMIC type [MIPPE] on 2020-01-22 for 0:15:00\n",
      "Component Reorg type [MIPPE] on 2020-01-24 for 1:00:00\n",
      "Diff ADC Fab type [MIPPE] on 2020-01-28 for 1:00:00\n",
      "Diff ADC Firmware type [MIPPE] on 2020-01-28 for 1:00:00\n",
      "Diff Firmware type [MIPPE] on 2020-01-28 for 2:00:00\n",
      "ADC Measurements type [MIPPE] on 2020-02-03 for 1:00:00\n",
      "MIPPE Planning    type [MIPPE] on 2020-02-03 for 1:00:00\n",
      "Finish ADC UI type [MIPPE] on 2020-02-03 for 1:00:00\n",
      "328 Module type [MIPPE] on 2020-02-04 for 2:00:00\n",
      "More MIPPE thinking type [MIPPE] on 2020-02-04 for 2:00:00\n",
      "MIPPE stuff type [MIPPE] on 2020-02-05 for 3:00:00\n",
      "Mippe bom cpl type [MIPPE] on 2020-02-06 for 1:00:00\n",
      "OLED Module type [MIPPE] on 2020-02-07 for 2:30:00\n",
      "OPD Module type [MIPPE] on 2020-02-07 for 3:00:00\n",
      "Board Orders type [MIPPE] on 2020-02-08 for 1:30:00\n",
      "MIPPE MoBo type [MIPPE] on 2020-02-18 for 2:30:00\n",
      "MIPPE MoBo type [MIPPE] on 2020-02-18 for 2:30:00\n",
      "Mobo type [MIPPE] on 2020-02-19 for 1:00:00\n",
      "Mobo type [MIPPE] on 2020-02-20 for 2:00:00\n",
      "OLED PMIC Firmware type [MIPPE] on 2020-02-20 for 2:00:00\n",
      "Mobo type [MIPPE] on 2020-02-21 for 2:30:00\n",
      "Mobo type [MIPPE] on 2020-02-24 for 2:00:00\n",
      "OLED PMIC type [MIPPE] on 2020-02-24 for 1:30:00\n",
      "32u4 Solder & Flash type [MIPPE] on 2020-02-24 for 2:30:00\n",
      "Passive Pot Diff type [MIPPE] on 2020-02-25 for 2:00:00\n",
      "Stuff type [MIPPE] on 2020-02-25 for 1:00:00\n",
      "OLED Module type [MIPPE] on 2020-02-26 for 2:30:00\n",
      "MIPPE Testing type [MIPPE] on 2020-02-27 for 1:00:00\n",
      "MIPPE 328PB type [MIPPE] on 2020-02-27 for 2:30:00\n",
      "DIFF ADC Module Testing type [MIPPE] on 2020-02-28 for 2:30:00\n",
      "OPD Module Testing type [MIPPE] on 2020-02-28 for 2:30:00\n",
      "OPD Module Design type [MIPPE] on 2020-02-28 for 2:30:00\n",
      "MIPPE Finalize Orders type [MIPPE] on 2020-02-29 for 2:00:00\n",
      "Inventory MIPPE type [MIPPE] on 2020-02-29 for 0:30:00\n",
      "Organization type [MIPPE] on 2020-03-03 for 2:30:00\n",
      "Inventory Parts type [MIPPE] on 2020-03-05 for 1:30:00\n",
      "MIPPE OLED type [MIPPE] on 2020-03-11 for 4:00:00\n",
      "MIPPE Transimpedance type [MIPPE] on 2020-03-12 for 3:00:00\n",
      "MIPPE Pass pot type [MIPPE] on 2020-03-13 for 2:00:00\n",
      "MIPPE Mobo type [MIPPE] on 2020-03-13 for 4:30:00\n",
      "Work type [MIPPE] on 2020-03-21 for 6:00:00\n",
      "Work type [MIPPE] on 2020-03-22 for 6:00:00\n",
      "Work type [MIPPE] on 2020-03-23 for 6:00:00\n",
      "Work type [MIPPE] on 2020-03-24 for 6:00:00\n",
      "Work type [MIPPE] on 2020-03-25 for 4:00:00\n",
      "Work type [MIPPE] on 2020-03-26 for 6:00:00\n",
      "Work type [MIPPE] on 2020-03-27 for 6:00:00\n",
      "Work type [MIPPE] on 2020-03-28 for 6:00:00\n",
      "Work type [MIPPE] on 2020-03-29 for 6:00:00\n",
      "Work type [MIPPE] on 2020-03-30 for 7:00:00\n",
      "Work type [MIPPE] on 2020-03-31 for 3:00:00\n",
      "Work type [MIPPE] on 2020-03-31 for 1:30:00\n",
      "Work type [MIPPE] on 2020-04-01 for 8:30:00\n",
      "Presentation type [MIPPE] on 2020-04-02 for 4:00:00\n",
      "Presentation type [MIPPE] on 2020-04-03 for 8:00:00\n",
      "Presentation type [MIPPE] on 2020-04-05 for 9:00:00\n",
      "Presentation type [MIPPE] on 2020-04-06 for 1:00:00\n",
      "Presentation type [MIPPE] on 2020-04-06 for 5:00:00\n",
      "Presentation type [MIPPE] on 2020-04-07 for 1:00:00\n",
      "Presentation type [MIPPE] on 2020-04-07 for 4:00:00\n",
      "First Draft type [MIPPE] on 2020-04-09 for 6:00:00\n",
      "First Draft type [MIPPE] on 2020-04-10 for 6:00:00\n",
      "First Draft type [MIPPE] on 2020-04-11 for 6:00:00\n",
      "First Draft type [MIPPE] on 2020-04-12 for 6:00:00\n",
      "First Draft type [MIPPE] on 2020-04-14 for 6:00:00\n",
      "First Draft type [MIPPE] on 2020-04-15 for 4:00:00\n",
      "First Draft type [MIPPE] on 2020-04-16 for 6:00:00\n",
      "First Draft type [MIPPE] on 2020-04-17 for 6:00:00\n",
      "First Draft type [MIPPE] on 2020-04-18 for 6:00:00\n",
      "First Draft type [MIPPE] on 2020-04-20 for 6:00:00\n",
      "First Draft type [MIPPE] on 2020-04-21 for 6:00:00\n",
      "First Draft type [MIPPE] on 2020-04-22 for 4:00:00\n"
     ]
    }
   ],
   "source": [
    "(creds, service) = get_creds_service()\n",
    "cal_dict = load_calendars()\n",
    "start_date = get_datetime_obj(26, 8, 2019)\n",
    "events = list_all_events(start_date, creds, service, cal=cal_dict['research_cal'])\n",
    "for x in events:\n",
    "    print(x)"
   ]
  }
 ],
 "metadata": {
  "kernelspec": {
   "display_name": "Python 3",
   "language": "python",
   "name": "python3"
  },
  "language_info": {
   "codemirror_mode": {
    "name": "ipython",
    "version": 3
   },
   "file_extension": ".py",
   "mimetype": "text/x-python",
   "name": "python",
   "nbconvert_exporter": "python",
   "pygments_lexer": "ipython3",
   "version": "3.8.2"
  }
 },
 "nbformat": 4,
 "nbformat_minor": 4
}
