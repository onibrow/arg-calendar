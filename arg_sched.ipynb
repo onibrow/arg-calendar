{
 "cells": [
  {
   "cell_type": "markdown",
   "metadata": {},
   "source": [
    "# Research Group Meeting Scheduler\n",
    "## Arias Research Group"
   ]
  },
  {
   "cell_type": "code",
   "execution_count": 1,
   "metadata": {},
   "outputs": [
    {
     "name": "stdout",
     "output_type": "stream",
     "text": [
      "Populating the interactive namespace from numpy and matplotlib\n"
     ]
    }
   ],
   "source": [
    "%pylab inline\n",
    "%load_ext autoreload\n",
    "%autoreload 2"
   ]
  },
  {
   "cell_type": "code",
   "execution_count": 26,
   "metadata": {},
   "outputs": [],
   "source": [
    "from cal_helper import *\n",
    "import matplotlib.dates as dates\n",
    "import matplotlib.pyplot as plt\n",
    "import re\n",
    "matplotlib.font_manager._rebuild()"
   ]
  },
  {
   "cell_type": "code",
   "execution_count": 32,
   "metadata": {},
   "outputs": [],
   "source": [
    "(creds, service) = get_creds_service()\n",
    "# list_calendars(creds, service)\n",
    "cal_dict = load_calendars()\n",
    "start_date = get_datetime_now()\n",
    "events = list_all_group_meetings(start_date, creds, service, cal=cal_dict['Research Test'])"
   ]
  },
  {
   "cell_type": "code",
   "execution_count": 34,
   "metadata": {},
   "outputs": [],
   "source": [
    "def enumerate_"
   ]
  },
  {
   "cell_type": "code",
   "execution_count": 35,
   "metadata": {},
   "outputs": [
    {
     "name": "stdout",
     "output_type": "stream",
     "text": [
      "[<cal_helper.Event object at 0x7f7117af3d00>, <cal_helper.Event object at 0x7f7117af31f0>, <cal_helper.Event object at 0x7f7116f49dc0>, <cal_helper.Event object at 0x7f7117237310>]\n",
      "[<cal_helper.Event object at 0x7f7117af3d00>, <cal_helper.Event object at 0x7f7117af31f0>, <cal_helper.Event object at 0x7f7116f49dc0>, <cal_helper.Event object at 0x7f7117237310>]\n"
     ]
    }
   ],
   "source": [
    "print(group_meeting_events)\n",
    "print(events)"
   ]
  }
 ],
 "metadata": {
  "kernelspec": {
   "display_name": "Python 3",
   "language": "python",
   "name": "python3"
  },
  "language_info": {
   "codemirror_mode": {
    "name": "ipython",
    "version": 3
   },
   "file_extension": ".py",
   "mimetype": "text/x-python",
   "name": "python",
   "nbconvert_exporter": "python",
   "pygments_lexer": "ipython3",
   "version": "3.8.2"
  }
 },
 "nbformat": 4,
 "nbformat_minor": 4
}
